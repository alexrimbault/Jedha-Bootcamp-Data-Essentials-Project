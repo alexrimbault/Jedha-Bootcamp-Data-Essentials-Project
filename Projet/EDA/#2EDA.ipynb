{
 "cells": [
  {
   "cell_type": "markdown",
   "id": "1ae520a5-8604-4420-8b3d-524e1e39ee97",
   "metadata": {},
   "source": [
    "## Step 1 - Importing Libraries & Dataset"
   ]
  },
  {
   "cell_type": "code",
   "execution_count": 1,
   "id": "15e42643-133e-42a5-9c82-3a1ec8c67d04",
   "metadata": {},
   "outputs": [],
   "source": [
    "#IMPORTING LIBRARIES\n",
    "\n",
    "import pandas as pd\n",
    "import numpy as np\n",
    "import matplotlib.pyplot as plt \n",
    "import seaborn as sns"
   ]
  },
  {
   "cell_type": "code",
   "execution_count": 2,
   "id": "326e1684-df30-4c42-a9d9-776adf4feeb9",
   "metadata": {},
   "outputs": [],
   "source": [
    "#IMPORTING DATAFRAME\n",
    "\n",
    "df = pd.read_csv('comp_modified.csv')"
   ]
  },
  {
   "cell_type": "code",
   "execution_count": 6,
   "id": "f1becf7e-6e19-48c0-937a-0e1a18c0e48e",
   "metadata": {},
   "outputs": [
    {
     "data": {
      "text/plain": [
       "Index(['funding_total_usd', 'country_code', 'city', 'funding_rounds'], dtype='object')"
      ]
     },
     "execution_count": 6,
     "metadata": {},
     "output_type": "execute_result"
    }
   ],
   "source": [
    "df.columns"
   ]
  },
  {
   "cell_type": "markdown",
   "id": "fa01a3ed-9bca-46eb-bcbf-890262f8ba36",
   "metadata": {},
   "source": [
    "## Step 2 - EDA"
   ]
  },
  {
   "cell_type": "code",
   "execution_count": 7,
   "id": "31c258f3-dcff-4206-83dc-5eda2c3cdbc6",
   "metadata": {},
   "outputs": [
    {
     "data": {
      "text/plain": [
       "<seaborn.axisgrid.FacetGrid at 0x7f9d92be99d0>"
      ]
     },
     "execution_count": 7,
     "metadata": {},
     "output_type": "execute_result"
    },
    {
     "data": {
      "image/png": "[encoded data removed]",
      "text/plain": [
       "<Figure size 360x360 with 1 Axes>"
      ]
     },
     "metadata": {
      "needs_background": "light"
     },
     "output_type": "display_data"
    }
   ],
   "source": [
    "#LOOKING AT THE REGION OF THE WORLD THAT HAVE RAISED THE MORE\n",
    "\n",
    "sns.catplot(x='country_code',y='funding_total_usd',data=df,kind='bar')"
   ]
  },
  {
   "cell_type": "code",
   "execution_count": 15,
   "id": "231ba4eb-7201-4a4e-94d8-b6b268b90448",
   "metadata": {},
   "outputs": [
    {
     "data": {
      "image/png": "[encoded data removed]",
      "text/plain": [
       "<Figure size 432x288 with 1 Axes>"
      ]
     },
     "metadata": {
      "needs_background": "light"
     },
     "output_type": "display_data"
    }
   ],
   "source": [
    "#LOOKING AT THE CITIES IN WHICH COMPANIES HAVE RAISED THE MORE\n",
    "\n",
    "city_counts = df['city'].value_counts()\n",
    "df[df['city'].isin(city_counts[city_counts > 100].index)].groupby('city')['funding_total_usd'].mean().plot(kind='bar');"
   ]
  },
  {
   "cell_type": "code",
   "execution_count": 10,
   "id": "40da3d49-e56d-461d-834a-2e9fc2c08c96",
   "metadata": {},
   "outputs": [
    {
     "data": {
      "text/plain": [
       "<seaborn.axisgrid.FacetGrid at 0x7f9d8cf6ccd0>"
      ]
     },
     "execution_count": 10,
     "metadata": {},
     "output_type": "execute_result"
    },
    {
     "data": {
      "image/png": "[encoded data removed]",
      "text/plain": [
       "<Figure size 360x360 with 1 Axes>"
      ]
     },
     "metadata": {
      "needs_background": "light"
     },
     "output_type": "display_data"
    }
   ],
   "source": [
    "#LOOKING AT THE NUMBER OF FUNDING ROUNDS NEEDED TO RAISED A CERTAIN AMOUNT\n",
    "\n",
    "sns.catplot(x='funding_rounds',y='funding_total_usd',data=df,kind='bar')"
   ]
  },
  {
   "cell_type": "code",
   "execution_count": 11,
   "id": "84d5cf91-3666-4950-bbe2-6e6e16f83283",
   "metadata": {},
   "outputs": [
    {
     "data": {
      "text/html": [
       "<div>\n",
       "<style scoped>\n",
       "    .dataframe tbody tr th:only-of-type {\n",
       "        vertical-align: middle;\n",
       "    }\n",
       "\n",
       "    .dataframe tbody tr th {\n",
       "        vertical-align: top;\n",
       "    }\n",
       "\n",
       "    .dataframe thead th {\n",
       "        text-align: right;\n",
       "    }\n",
       "</style>\n",
       "<table border=\"1\" class=\"dataframe\">\n",
       "  <thead>\n",
       "    <tr style=\"text-align: right;\">\n",
       "      <th></th>\n",
       "      <th>funding_total_usd</th>\n",
       "      <th>funding_rounds</th>\n",
       "    </tr>\n",
       "  </thead>\n",
       "  <tbody>\n",
       "    <tr>\n",
       "      <th>count</th>\n",
       "      <td>1.016700e+04</td>\n",
       "      <td>10167.000000</td>\n",
       "    </tr>\n",
       "    <tr>\n",
       "      <th>mean</th>\n",
       "      <td>2.006129e+07</td>\n",
       "      <td>1.985738</td>\n",
       "    </tr>\n",
       "    <tr>\n",
       "      <th>std</th>\n",
       "      <td>1.148733e+08</td>\n",
       "      <td>1.557127</td>\n",
       "    </tr>\n",
       "    <tr>\n",
       "      <th>min</th>\n",
       "      <td>9.000000e+00</td>\n",
       "      <td>1.000000</td>\n",
       "    </tr>\n",
       "    <tr>\n",
       "      <th>25%</th>\n",
       "      <td>5.000000e+05</td>\n",
       "      <td>1.000000</td>\n",
       "    </tr>\n",
       "    <tr>\n",
       "      <th>50%</th>\n",
       "      <td>2.649402e+06</td>\n",
       "      <td>1.000000</td>\n",
       "    </tr>\n",
       "    <tr>\n",
       "      <th>75%</th>\n",
       "      <td>1.215000e+07</td>\n",
       "      <td>2.000000</td>\n",
       "    </tr>\n",
       "    <tr>\n",
       "      <th>max</th>\n",
       "      <td>5.820000e+09</td>\n",
       "      <td>15.000000</td>\n",
       "    </tr>\n",
       "  </tbody>\n",
       "</table>\n",
       "</div>"
      ],
      "text/plain": [
       "       funding_total_usd  funding_rounds\n",
       "count       1.016700e+04    10167.000000\n",
       "mean        2.006129e+07        1.985738\n",
       "std         1.148733e+08        1.557127\n",
       "min         9.000000e+00        1.000000\n",
       "25%         5.000000e+05        1.000000\n",
       "50%         2.649402e+06        1.000000\n",
       "75%         1.215000e+07        2.000000\n",
       "max         5.820000e+09       15.000000"
      ]
     },
     "execution_count": 11,
     "metadata": {},
     "output_type": "execute_result"
    }
   ],
   "source": [
    "#CHECKING THE DIFFERENT FIGURES ON ALL THE NUMERIC COLUMNS OF THE DATAFRAME\n",
    "\n",
    "df.describe()"
   ]
  }
 ],
 "metadata": {
  "kernelspec": {
   "display_name": "Python 3 (ipykernel)",
   "language": "python",
   "name": "python3"
  },
  "language_info": {
   "codemirror_mode": {
    "name": "ipython",
    "version": 3
   },
   "file_extension": ".py",
   "mimetype": "text/x-python",
   "name": "python",
   "nbconvert_exporter": "python",
   "pygments_lexer": "ipython3",
   "version": "3.9.7"
  }
 },
 "nbformat": 4,
 "nbformat_minor": 5
}
