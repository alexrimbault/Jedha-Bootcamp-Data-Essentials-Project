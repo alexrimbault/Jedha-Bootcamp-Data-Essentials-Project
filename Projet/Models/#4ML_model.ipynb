{
 "cells": [
  {
   "cell_type": "markdown",
   "id": "0dd5f8a1-fa3a-4ab7-9727-d002006e6af7",
   "metadata": {},
   "source": [
    "## Step 1 - Importing Libraries & Dataset\n",
    "---"
   ]
  },
  {
   "cell_type": "code",
   "execution_count": 1,
   "id": "f55a69bc-eb7a-4306-b27c-72c51465b0fe",
   "metadata": {},
   "outputs": [],
   "source": [
    "#IMPORT LIBRARIES\n",
    "\n",
    "import pandas as pd\n",
    "import numpy as np \n",
    "from sklearn.model_selection import train_test_split\n",
    "from sklearn.preprocessing import StandardScaler, OneHotEncoder\n",
    "from sklearn.compose import ColumnTransformer\n",
    "from sklearn.linear_model import LinearRegression"
   ]
  },
  {
   "cell_type": "code",
   "execution_count": 2,
   "id": "c2a6ba28-3bf9-47b5-9e65-a2a77f2717c3",
   "metadata": {},
   "outputs": [],
   "source": [
    "#IMPORTING DATAFRAME\n",
    "\n",
    "df = pd.read_csv('comp_modified_v2.csv')"
   ]
  },
  {
   "cell_type": "code",
   "execution_count": 13,
   "id": "380156db-75ef-48fa-9bc2-7f22b4822a7f",
   "metadata": {},
   "outputs": [
    {
     "data": {
      "text/plain": [
       "(10167, 4)"
      ]
     },
     "execution_count": 13,
     "metadata": {},
     "output_type": "execute_result"
    }
   ],
   "source": [
    "df.shape"
   ]
  },
  {
   "cell_type": "markdown",
   "id": "9c3518e7-bc71-405b-b479-f1f3175e7146",
   "metadata": {},
   "source": [
    "## Step 2 - Preprocessing\n",
    "---"
   ]
  },
  {
   "cell_type": "code",
   "execution_count": 3,
   "id": "e1be8446-a898-4834-849e-2c3269e24bf7",
   "metadata": {},
   "outputs": [
    {
     "data": {
      "text/plain": [
       "Index(['funding_total_usd', 'country_code', 'city', 'funding_rounds'], dtype='object')"
      ]
     },
     "execution_count": 3,
     "metadata": {},
     "output_type": "execute_result"
    }
   ],
   "source": [
    "#CHECKING THE COLUMNS IN DATASET\n",
    "\n",
    "df.columns"
   ]
  },
  {
   "cell_type": "code",
   "execution_count": 4,
   "id": "f022940b-2766-4c08-b321-fb20381a7c70",
   "metadata": {},
   "outputs": [],
   "source": [
    "#SPLITTING DATASET IN VARIABLE X AND Y\n",
    "\n",
    "X = df[['country_code','city','funding_rounds']]\n",
    "y = df['funding_total_usd']"
   ]
  },
  {
   "cell_type": "code",
   "execution_count": 5,
   "id": "be6dfc5f-4ad6-4fea-aa97-f0fde25b85ca",
   "metadata": {},
   "outputs": [],
   "source": [
    "#SPLITTING DATA IN TRAIN AND TEST SETS\n",
    "\n",
    "X_train, X_test, y_train, y_test = train_test_split(X, y, \n",
    "                                                    test_size=0.2, \n",
    "                                                    random_state=0)"
   ]
  },
  {
   "cell_type": "code",
   "execution_count": 6,
   "id": "f99f10c3-7c18-4997-8ea9-33c0c2a509cd",
   "metadata": {},
   "outputs": [
    {
     "data": {
      "text/html": [
       "<div>\n",
       "<style scoped>\n",
       "    .dataframe tbody tr th:only-of-type {\n",
       "        vertical-align: middle;\n",
       "    }\n",
       "\n",
       "    .dataframe tbody tr th {\n",
       "        vertical-align: top;\n",
       "    }\n",
       "\n",
       "    .dataframe thead th {\n",
       "        text-align: right;\n",
       "    }\n",
       "</style>\n",
       "<table border=\"1\" class=\"dataframe\">\n",
       "  <thead>\n",
       "    <tr style=\"text-align: right;\">\n",
       "      <th></th>\n",
       "      <th>country_code</th>\n",
       "      <th>city</th>\n",
       "      <th>funding_rounds</th>\n",
       "    </tr>\n",
       "  </thead>\n",
       "  <tbody>\n",
       "    <tr>\n",
       "      <th>0</th>\n",
       "      <td>AS</td>\n",
       "      <td>Mumbai</td>\n",
       "      <td>1.0</td>\n",
       "    </tr>\n",
       "    <tr>\n",
       "      <th>1</th>\n",
       "      <td>NorthAm</td>\n",
       "      <td>Delaware City</td>\n",
       "      <td>2.0</td>\n",
       "    </tr>\n",
       "    <tr>\n",
       "      <th>2</th>\n",
       "      <td>AS</td>\n",
       "      <td>Beijing</td>\n",
       "      <td>1.0</td>\n",
       "    </tr>\n",
       "    <tr>\n",
       "      <th>3</th>\n",
       "      <td>AS</td>\n",
       "      <td>Hong Kong</td>\n",
       "      <td>1.0</td>\n",
       "    </tr>\n",
       "    <tr>\n",
       "      <th>4</th>\n",
       "      <td>NorthAm</td>\n",
       "      <td>Vancouver</td>\n",
       "      <td>2.0</td>\n",
       "    </tr>\n",
       "  </tbody>\n",
       "</table>\n",
       "</div>"
      ],
      "text/plain": [
       "  country_code           city  funding_rounds\n",
       "0           AS         Mumbai             1.0\n",
       "1      NorthAm  Delaware City             2.0\n",
       "2           AS        Beijing             1.0\n",
       "3           AS      Hong Kong             1.0\n",
       "4      NorthAm      Vancouver             2.0"
      ]
     },
     "execution_count": 6,
     "metadata": {},
     "output_type": "execute_result"
    }
   ],
   "source": [
    "X.head()"
   ]
  },
  {
   "cell_type": "markdown",
   "id": "34329d8f-02f8-4f3d-9aba-502b96d9cd13",
   "metadata": {},
   "source": [
    "## Processing X_train\n",
    "---"
   ]
  },
  {
   "cell_type": "code",
   "execution_count": 7,
   "id": "8626329d-e3ea-44e7-baa2-056a148bd439",
   "metadata": {},
   "outputs": [],
   "source": [
    "categorical_features = [0,1,2] \n",
    "categorical_transformer = OneHotEncoder(handle_unknown = 'ignore')\n",
    "\n",
    "\n",
    "feature_encoder = ColumnTransformer(\n",
    "    transformers=[\n",
    "        ('cat', categorical_transformer, categorical_features),\n",
    "        ]\n",
    "    )\n",
    "\n",
    "X_train = feature_encoder.fit_transform(X_train)"
   ]
  },
  {
   "cell_type": "markdown",
   "id": "8e8aef4e-5a80-4e0e-b962-9c7eb4ad32fc",
   "metadata": {},
   "source": [
    "## Processing X_test\n",
    "---"
   ]
  },
  {
   "cell_type": "code",
   "execution_count": 8,
   "id": "8c41299b-dfae-4a00-8c85-b7d382bc40aa",
   "metadata": {},
   "outputs": [],
   "source": [
    "X_test = feature_encoder.transform(X_test)"
   ]
  },
  {
   "cell_type": "markdown",
   "id": "24aa474a-14d9-4620-8d07-46324c52da33",
   "metadata": {},
   "source": [
    "# Building the model\n",
    "---"
   ]
  },
  {
   "cell_type": "code",
   "execution_count": 9,
   "id": "f44ce1fe-20cd-42d3-bc12-d404c78184ef",
   "metadata": {},
   "outputs": [
    {
     "data": {
      "text/plain": [
       "LinearRegression()"
      ]
     },
     "execution_count": 9,
     "metadata": {},
     "output_type": "execute_result"
    }
   ],
   "source": [
    "#CREATING AND FITTING THE MODEL\n",
    "\n",
    "regressor = LinearRegression()\n",
    "regressor.fit(X_train, y_train)"
   ]
  },
  {
   "cell_type": "code",
   "execution_count": 10,
   "id": "c8348bd4-4f92-48e5-b831-4cd7d629e76c",
   "metadata": {},
   "outputs": [],
   "source": [
    "# PREDICTING ON TRAIN SET\n",
    "\n",
    "y_train_pred = regressor.predict(X_train)"
   ]
  },
  {
   "cell_type": "code",
   "execution_count": 11,
   "id": "69c707db-4387-4f98-b004-5f003afd3eb7",
   "metadata": {},
   "outputs": [],
   "source": [
    "# PREDICTING ON TEST SET\n",
    "\n",
    "y_test_pred = regressor.predict(X_test)"
   ]
  },
  {
   "cell_type": "code",
   "execution_count": 12,
   "id": "dd696f9b-32a7-4813-b957-0ef904a1eb02",
   "metadata": {},
   "outputs": [
    {
     "name": "stdout",
     "output_type": "stream",
     "text": [
      "R2 score on training set :  0.14489696024804277\n",
      "R2 score on test set :  -0.18898854041855628\n"
     ]
    }
   ],
   "source": [
    "#PRINTING THE RESULT OF THE R2 SCORE ON TRAINING AND TEST SET TO COMPARE THEM\n",
    "\n",
    "print(\"R2 score on training set : \", regressor.score(X_train, y_train))\n",
    "print(\"R2 score on test set : \", regressor.score(X_test, y_test))"
   ]
  }
 ],
 "metadata": {
  "kernelspec": {
   "display_name": "Python 3 (ipykernel)",
   "language": "python",
   "name": "python3"
  },
  "language_info": {
   "codemirror_mode": {
    "name": "ipython",
    "version": 3
   },
   "file_extension": ".py",
   "mimetype": "text/x-python",
   "name": "python",
   "nbconvert_exporter": "python",
   "pygments_lexer": "ipython3",
   "version": "3.9.7"
  }
 },
 "nbformat": 4,
 "nbformat_minor": 5
}
