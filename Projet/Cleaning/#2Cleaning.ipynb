{
 "cells": [
  {
   "cell_type": "markdown",
   "id": "3530ae3c-756c-4398-b1ec-1b3f53ed30ed",
   "metadata": {},
   "source": [
    "## Step 1 - Importing Libraries & Dataset\n",
    "---"
   ]
  },
  {
   "cell_type": "code",
   "execution_count": 1,
   "id": "35ea1ae7-68a1-407f-b13e-f6aca3f4e7f9",
   "metadata": {},
   "outputs": [],
   "source": [
    "#IMPORTING LIBRARIES\n",
    "\n",
    "import pandas as pd\n",
    "import numpy as np\n",
    "pd.options.display.max_rows = 999"
   ]
  },
  {
   "cell_type": "code",
   "execution_count": 2,
   "id": "181434cd-e565-4a04-8c4f-55fd1b943f14",
   "metadata": {},
   "outputs": [],
   "source": [
    "#IMPORTING DATAFRAME\n",
    "\n",
    "df = pd.read_csv('comp_original.csv')"
   ]
  },
  {
   "cell_type": "markdown",
   "id": "5ac5a182-094d-4ed1-bb8b-7e4724c08f98",
   "metadata": {
    "tags": []
   },
   "source": [
    "## Step 2 - Quick overview\n",
    "---"
   ]
  },
  {
   "cell_type": "code",
   "execution_count": 3,
   "id": "67680893-2876-4eec-8106-0d15e3138449",
   "metadata": {},
   "outputs": [
    {
     "data": {
      "text/html": [
       "<div>\n",
       "<style scoped>\n",
       "    .dataframe tbody tr th:only-of-type {\n",
       "        vertical-align: middle;\n",
       "    }\n",
       "\n",
       "    .dataframe tbody tr th {\n",
       "        vertical-align: top;\n",
       "    }\n",
       "\n",
       "    .dataframe thead th {\n",
       "        text-align: right;\n",
       "    }\n",
       "</style>\n",
       "<table border=\"1\" class=\"dataframe\">\n",
       "  <thead>\n",
       "    <tr style=\"text-align: right;\">\n",
       "      <th></th>\n",
       "      <th>permalink</th>\n",
       "      <th>name</th>\n",
       "      <th>homepage_url</th>\n",
       "      <th>category_list</th>\n",
       "      <th>funding_total_usd</th>\n",
       "      <th>status</th>\n",
       "      <th>country_code</th>\n",
       "      <th>state_code</th>\n",
       "      <th>region</th>\n",
       "      <th>city</th>\n",
       "      <th>funding_rounds</th>\n",
       "      <th>founded_at</th>\n",
       "      <th>first_funding_at</th>\n",
       "      <th>last_funding_at</th>\n",
       "    </tr>\n",
       "  </thead>\n",
       "  <tbody>\n",
       "    <tr>\n",
       "      <th>0</th>\n",
       "      <td>/organization/-fame</td>\n",
       "      <td>#fame</td>\n",
       "      <td>http://livfame.com</td>\n",
       "      <td>Media</td>\n",
       "      <td>10000000</td>\n",
       "      <td>operating</td>\n",
       "      <td>IND</td>\n",
       "      <td>16</td>\n",
       "      <td>Mumbai</td>\n",
       "      <td>Mumbai</td>\n",
       "      <td>1.0</td>\n",
       "      <td>NaN</td>\n",
       "      <td>2015-01-05</td>\n",
       "      <td>2015-01-05</td>\n",
       "    </tr>\n",
       "    <tr>\n",
       "      <th>1</th>\n",
       "      <td>/organization/-qounter</td>\n",
       "      <td>:Qounter</td>\n",
       "      <td>http://www.qounter.com</td>\n",
       "      <td>Application Platforms|Real Time|Social Network...</td>\n",
       "      <td>700000</td>\n",
       "      <td>operating</td>\n",
       "      <td>USA</td>\n",
       "      <td>DE</td>\n",
       "      <td>DE - Other</td>\n",
       "      <td>Delaware City</td>\n",
       "      <td>2.0</td>\n",
       "      <td>2014-09-04</td>\n",
       "      <td>2014-03-01</td>\n",
       "      <td>2014-10-14</td>\n",
       "    </tr>\n",
       "    <tr>\n",
       "      <th>2</th>\n",
       "      <td>/organization/-the-one-of-them-inc-</td>\n",
       "      <td>(THE) ONE of THEM,Inc.</td>\n",
       "      <td>http://oneofthem.jp</td>\n",
       "      <td>Apps|Games|Mobile</td>\n",
       "      <td>3406878</td>\n",
       "      <td>operating</td>\n",
       "      <td>NaN</td>\n",
       "      <td>NaN</td>\n",
       "      <td>NaN</td>\n",
       "      <td>NaN</td>\n",
       "      <td>1.0</td>\n",
       "      <td>NaN</td>\n",
       "      <td>2014-01-30</td>\n",
       "      <td>2014-01-30</td>\n",
       "    </tr>\n",
       "    <tr>\n",
       "      <th>3</th>\n",
       "      <td>/organization/0-6-com</td>\n",
       "      <td>0-6.com</td>\n",
       "      <td>http://www.0-6.com</td>\n",
       "      <td>Curated Web</td>\n",
       "      <td>2000000</td>\n",
       "      <td>operating</td>\n",
       "      <td>CHN</td>\n",
       "      <td>22</td>\n",
       "      <td>Beijing</td>\n",
       "      <td>Beijing</td>\n",
       "      <td>1.0</td>\n",
       "      <td>2007-01-01</td>\n",
       "      <td>2008-03-19</td>\n",
       "      <td>2008-03-19</td>\n",
       "    </tr>\n",
       "    <tr>\n",
       "      <th>4</th>\n",
       "      <td>/organization/004-technologies</td>\n",
       "      <td>004 Technologies</td>\n",
       "      <td>http://004gmbh.de/en/004-interact</td>\n",
       "      <td>Software</td>\n",
       "      <td>-</td>\n",
       "      <td>operating</td>\n",
       "      <td>USA</td>\n",
       "      <td>IL</td>\n",
       "      <td>Springfield, Illinois</td>\n",
       "      <td>Champaign</td>\n",
       "      <td>1.0</td>\n",
       "      <td>2010-01-01</td>\n",
       "      <td>2014-07-24</td>\n",
       "      <td>2014-07-24</td>\n",
       "    </tr>\n",
       "  </tbody>\n",
       "</table>\n",
       "</div>"
      ],
      "text/plain": [
       "                             permalink                    name  \\\n",
       "0                  /organization/-fame                   #fame   \n",
       "1               /organization/-qounter                :Qounter   \n",
       "2  /organization/-the-one-of-them-inc-  (THE) ONE of THEM,Inc.   \n",
       "3                /organization/0-6-com                 0-6.com   \n",
       "4       /organization/004-technologies        004 Technologies   \n",
       "\n",
       "                        homepage_url  \\\n",
       "0                 http://livfame.com   \n",
       "1             http://www.qounter.com   \n",
       "2                http://oneofthem.jp   \n",
       "3                 http://www.0-6.com   \n",
       "4  http://004gmbh.de/en/004-interact   \n",
       "\n",
       "                                       category_list funding_total_usd  \\\n",
       "0                                              Media          10000000   \n",
       "1  Application Platforms|Real Time|Social Network...            700000   \n",
       "2                                  Apps|Games|Mobile           3406878   \n",
       "3                                        Curated Web           2000000   \n",
       "4                                           Software                 -   \n",
       "\n",
       "      status country_code state_code                 region           city  \\\n",
       "0  operating          IND         16                 Mumbai         Mumbai   \n",
       "1  operating          USA         DE             DE - Other  Delaware City   \n",
       "2  operating          NaN        NaN                    NaN            NaN   \n",
       "3  operating          CHN         22                Beijing        Beijing   \n",
       "4  operating          USA         IL  Springfield, Illinois      Champaign   \n",
       "\n",
       "   funding_rounds  founded_at first_funding_at last_funding_at  \n",
       "0             1.0         NaN       2015-01-05      2015-01-05  \n",
       "1             2.0  2014-09-04       2014-03-01      2014-10-14  \n",
       "2             1.0         NaN       2014-01-30      2014-01-30  \n",
       "3             1.0  2007-01-01       2008-03-19      2008-03-19  \n",
       "4             1.0  2010-01-01       2014-07-24      2014-07-24  "
      ]
     },
     "execution_count": 3,
     "metadata": {},
     "output_type": "execute_result"
    }
   ],
   "source": [
    "#CHECKING DATASET\n",
    "\n",
    "df.head()"
   ]
  },
  {
   "cell_type": "code",
   "execution_count": 4,
   "id": "4da59109-e183-4edf-8722-9fa1329b40e8",
   "metadata": {},
   "outputs": [
    {
     "data": {
      "text/plain": [
       "(13826, 14)"
      ]
     },
     "execution_count": 4,
     "metadata": {},
     "output_type": "execute_result"
    }
   ],
   "source": [
    "#CHECKING DATASET DIMENSIONS\n",
    "\n",
    "df.shape"
   ]
  },
  {
   "cell_type": "code",
   "execution_count": 5,
   "id": "5e76835d-2ab3-4345-b72e-78e08dd9ae5d",
   "metadata": {},
   "outputs": [
    {
     "data": {
      "text/plain": [
       "Index(['permalink', 'name', 'homepage_url', 'category_list',\n",
       "       'funding_total_usd', 'status', 'country_code', 'state_code', 'region',\n",
       "       'city', 'funding_rounds', 'founded_at', 'first_funding_at',\n",
       "       'last_funding_at'],\n",
       "      dtype='object')"
      ]
     },
     "execution_count": 5,
     "metadata": {},
     "output_type": "execute_result"
    }
   ],
   "source": [
    "#CHECKING THE COLUMNS IN DATASET\n",
    "\n",
    "df.columns"
   ]
  },
  {
   "cell_type": "markdown",
   "id": "13fc0ddd-2387-46c9-a300-d5657a05f487",
   "metadata": {
    "tags": []
   },
   "source": [
    "## Step 3 - Cleaning"
   ]
  },
  {
   "cell_type": "code",
   "execution_count": 6,
   "id": "e600bcac-c0c9-446f-8296-eae4465471a7",
   "metadata": {},
   "outputs": [],
   "source": [
    "#DROPPING THE COLUMNS WHICH ARE IRRELEVANT\n",
    "\n",
    "df.drop(columns = ['permalink','homepage_url','state_code','region','status','name','category_list','founded_at','first_funding_at','last_funding_at'], axis=1,inplace=True)"
   ]
  },
  {
   "cell_type": "code",
   "execution_count": 7,
   "id": "e585984a-c1e1-424d-855f-7408212a73cd",
   "metadata": {},
   "outputs": [
    {
     "data": {
      "text/plain": [
       "(13826, 4)"
      ]
     },
     "execution_count": 7,
     "metadata": {},
     "output_type": "execute_result"
    }
   ],
   "source": [
    "#CHECKING THE NEW DIMENSIONS OF DATASET\n",
    "\n",
    "df.shape"
   ]
  },
  {
   "cell_type": "code",
   "execution_count": 8,
   "id": "9c4d154c-ff81-4780-8f27-94b7208b206a",
   "metadata": {},
   "outputs": [
    {
     "data": {
      "text/plain": [
       "funding_total_usd       0\n",
       "country_code         1330\n",
       "city                 1561\n",
       "funding_rounds          1\n",
       "dtype: int64"
      ]
     },
     "execution_count": 8,
     "metadata": {},
     "output_type": "execute_result"
    }
   ],
   "source": [
    "#CHECKING ALL THE MISSING VALUES\n",
    "\n",
    "df.isnull().sum()"
   ]
  },
  {
   "cell_type": "code",
   "execution_count": 9,
   "id": "9f9844ca-a68f-49c2-97e3-a31fc727494e",
   "metadata": {},
   "outputs": [],
   "source": [
    "#DROPPING ALL MISSING VALUES\n",
    "\n",
    "df.dropna(subset = ['country_code','city','funding_rounds'], inplace=True)"
   ]
  },
  {
   "cell_type": "code",
   "execution_count": 10,
   "id": "25d1531c-ac71-4e0c-a24c-549e4372fb33",
   "metadata": {},
   "outputs": [
    {
     "data": {
      "text/plain": [
       "funding_total_usd    0\n",
       "country_code         0\n",
       "city                 0\n",
       "funding_rounds       0\n",
       "dtype: int64"
      ]
     },
     "execution_count": 10,
     "metadata": {},
     "output_type": "execute_result"
    }
   ],
   "source": [
    "#CHECKING IF ALL MISSING VALUES HAVE BEEN DROPPED\n",
    "\n",
    "df.isnull().sum()"
   ]
  },
  {
   "cell_type": "code",
   "execution_count": 11,
   "id": "4a354555-44d8-423c-8744-b965e6d95e13",
   "metadata": {},
   "outputs": [
    {
     "data": {
      "text/plain": [
       "(12265, 4)"
      ]
     },
     "execution_count": 11,
     "metadata": {},
     "output_type": "execute_result"
    }
   ],
   "source": [
    "#CHECKING THE NEW DIMENSIONS OF DATASET\n",
    "\n",
    "df.shape"
   ]
  },
  {
   "cell_type": "code",
   "execution_count": 12,
   "id": "4ca31092-7003-4426-b680-464d0245f760",
   "metadata": {},
   "outputs": [
    {
     "data": {
      "text/plain": [
       "funding_total_usd     object\n",
       "country_code          object\n",
       "city                  object\n",
       "funding_rounds       float64\n",
       "dtype: object"
      ]
     },
     "execution_count": 12,
     "metadata": {},
     "output_type": "execute_result"
    }
   ],
   "source": [
    "#CHECKING THE TYPE OF EACH COLUMN\n",
    "\n",
    "df.dtypes"
   ]
  },
  {
   "cell_type": "code",
   "execution_count": 13,
   "id": "310f7df2-1e97-4099-bb2e-036fa84aecbf",
   "metadata": {},
   "outputs": [
    {
     "data": {
      "text/plain": [
       "(10167, 4)"
      ]
     },
     "execution_count": 13,
     "metadata": {},
     "output_type": "execute_result"
    }
   ],
   "source": [
    "#DROPPING ALL THE ROWS IN COLUMN 'FUNDING_TOTAL_USD' WHO DON'T HAVE AN AMOUNT\n",
    "\n",
    "df.drop(df[df['funding_total_usd'].str.find('-') != -1].index, inplace=True)\n",
    "df.shape"
   ]
  },
  {
   "cell_type": "code",
   "execution_count": 14,
   "id": "b905411f-8a24-41f5-9168-321f448b5133",
   "metadata": {},
   "outputs": [
    {
     "data": {
      "text/html": [
       "<div>\n",
       "<style scoped>\n",
       "    .dataframe tbody tr th:only-of-type {\n",
       "        vertical-align: middle;\n",
       "    }\n",
       "\n",
       "    .dataframe tbody tr th {\n",
       "        vertical-align: top;\n",
       "    }\n",
       "\n",
       "    .dataframe thead th {\n",
       "        text-align: right;\n",
       "    }\n",
       "</style>\n",
       "<table border=\"1\" class=\"dataframe\">\n",
       "  <thead>\n",
       "    <tr style=\"text-align: right;\">\n",
       "      <th></th>\n",
       "      <th>funding_total_usd</th>\n",
       "      <th>country_code</th>\n",
       "      <th>city</th>\n",
       "      <th>funding_rounds</th>\n",
       "    </tr>\n",
       "  </thead>\n",
       "  <tbody>\n",
       "    <tr>\n",
       "      <th>0</th>\n",
       "      <td>10000000</td>\n",
       "      <td>IND</td>\n",
       "      <td>Mumbai</td>\n",
       "      <td>1.0</td>\n",
       "    </tr>\n",
       "    <tr>\n",
       "      <th>1</th>\n",
       "      <td>700000</td>\n",
       "      <td>USA</td>\n",
       "      <td>Delaware City</td>\n",
       "      <td>2.0</td>\n",
       "    </tr>\n",
       "    <tr>\n",
       "      <th>3</th>\n",
       "      <td>2000000</td>\n",
       "      <td>CHN</td>\n",
       "      <td>Beijing</td>\n",
       "      <td>1.0</td>\n",
       "    </tr>\n",
       "    <tr>\n",
       "      <th>5</th>\n",
       "      <td>41250</td>\n",
       "      <td>HKG</td>\n",
       "      <td>Hong Kong</td>\n",
       "      <td>1.0</td>\n",
       "    </tr>\n",
       "    <tr>\n",
       "      <th>6</th>\n",
       "      <td>762851</td>\n",
       "      <td>CAN</td>\n",
       "      <td>Vancouver</td>\n",
       "      <td>2.0</td>\n",
       "    </tr>\n",
       "  </tbody>\n",
       "</table>\n",
       "</div>"
      ],
      "text/plain": [
       "  funding_total_usd country_code           city  funding_rounds\n",
       "0          10000000          IND         Mumbai             1.0\n",
       "1            700000          USA  Delaware City             2.0\n",
       "3           2000000          CHN        Beijing             1.0\n",
       "5             41250          HKG      Hong Kong             1.0\n",
       "6            762851          CAN      Vancouver             2.0"
      ]
     },
     "execution_count": 14,
     "metadata": {},
     "output_type": "execute_result"
    }
   ],
   "source": [
    "df.head()"
   ]
  },
  {
   "cell_type": "code",
   "execution_count": 15,
   "id": "b1ee2fae-c7e6-497a-9c59-063c94995c8f",
   "metadata": {},
   "outputs": [
    {
     "data": {
      "text/plain": [
       "funding_total_usd    float64\n",
       "country_code          object\n",
       "city                  object\n",
       "funding_rounds       float64\n",
       "dtype: object"
      ]
     },
     "execution_count": 15,
     "metadata": {},
     "output_type": "execute_result"
    }
   ],
   "source": [
    "#CONVERTING THE 'FUNDING_TOTAL_USD' COLUMN IN FLOAT\n",
    "\n",
    "df['funding_total_usd'] = df['funding_total_usd'].astype(float)\n",
    "df.dtypes"
   ]
  },
  {
   "cell_type": "code",
   "execution_count": 16,
   "id": "be14f80a-c07c-440e-84a1-a7b582ee5d7f",
   "metadata": {},
   "outputs": [],
   "source": [
    "#GROUPING THE COUNTRY CODES BY REGION OF THE WORLD\n",
    "\n",
    "def categories_countries(x):\n",
    "    if x in ['USA','CAN']: \n",
    "        return 'NorthAm'\n",
    "    elif x in ['GBR','FRA','DEU','IRL','SWE','ESP','NLD','RUS','ITA','DNK','BEL','FIN','CHE']:\n",
    "        return 'EU'\n",
    "    elif x in ['CHN','IND','AUS','KOR','JPN','SGP','HKG']:\n",
    "        return 'AS'\n",
    "    elif x in ['CHL','BRA']:\n",
    "        return 'SouthAm'\n",
    "    else:\n",
    "        return 'Other'"
   ]
  },
  {
   "cell_type": "code",
   "execution_count": 17,
   "id": "288fdd94-f7c7-436a-92e3-1f206cc399ca",
   "metadata": {},
   "outputs": [],
   "source": [
    "df['country_code'] = df['country_code'].apply(categories_countries)"
   ]
  },
  {
   "cell_type": "code",
   "execution_count": 18,
   "id": "035909ff-ea61-488a-8d69-2d9b5101317a",
   "metadata": {},
   "outputs": [
    {
     "data": {
      "text/plain": [
       "NorthAm    7096\n",
       "EU         1586\n",
       "AS          789\n",
       "Other       554\n",
       "SouthAm     142\n",
       "Name: country_code, dtype: int64"
      ]
     },
     "execution_count": 18,
     "metadata": {},
     "output_type": "execute_result"
    }
   ],
   "source": [
    "df['country_code'].value_counts()"
   ]
  },
  {
   "cell_type": "markdown",
   "id": "b4610ee4-eca7-42e2-93a2-edec3318c996",
   "metadata": {},
   "source": [
    "## Step 4 - Exporting the dataframe in .csv to use it in other notebooks\n",
    "---"
   ]
  },
  {
   "cell_type": "code",
   "execution_count": 22,
   "id": "7ad51891-550e-480d-be21-71f3330d41be",
   "metadata": {},
   "outputs": [],
   "source": [
    "df.to_csv('comp_modified_v2.csv',index=False)"
   ]
  }
 ],
 "metadata": {
  "kernelspec": {
   "display_name": "Python 3 (ipykernel)",
   "language": "python",
   "name": "python3"
  },
  "language_info": {
   "codemirror_mode": {
    "name": "ipython",
    "version": 3
   },
   "file_extension": ".py",
   "mimetype": "text/x-python",
   "name": "python",
   "nbconvert_exporter": "python",
   "pygments_lexer": "ipython3",
   "version": "3.9.7"
  }
 },
 "nbformat": 4,
 "nbformat_minor": 5
}
